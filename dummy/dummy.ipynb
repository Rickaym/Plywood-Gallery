{
 "cells": [
  {
   "cell_type": "code",
   "execution_count": 1,
   "metadata": {},
   "outputs": [
    {
     "name": "stdout",
     "output_type": "stream",
     "text": [
      "/Users/jan-hendrik/projects/plywood-gallery/plywood_gallery/template/template_index.html /Users/jan-hendrik/projects/plywood-gallery/dummy/new_index.html\n",
      "/Users/jan-hendrik/projects/plywood-gallery/plywood_gallery/template/template_gallery.ipynb /Users/jan-hendrik/projects/plywood-gallery/dummy/new_gallery.ipynb\n"
     ]
    }
   ],
   "source": [
    "from plywood_gallery import quickstart\n",
    "quickstart()"
   ]
  },
  {
   "cell_type": "code",
   "execution_count": null,
   "metadata": {},
   "outputs": [],
   "source": []
  }
 ],
 "metadata": {
  "interpreter": {
   "hash": "881ef8f55983857dc9a935d8a9a9f01c85bf935df98336246e015c7b0b2f896e"
  },
  "kernelspec": {
   "display_name": "Python 3.9.5 64-bit ('plywood-gallery-bdCwKdj9-py3.9': poetry)",
   "language": "python",
   "name": "python3"
  },
  "language_info": {
   "codemirror_mode": {
    "name": "ipython",
    "version": 3
   },
   "file_extension": ".py",
   "mimetype": "text/x-python",
   "name": "python",
   "nbconvert_exporter": "python",
   "pygments_lexer": "ipython3",
   "version": "3.9.5"
  },
  "orig_nbformat": 4
 },
 "nbformat": 4,
 "nbformat_minor": 2
}
