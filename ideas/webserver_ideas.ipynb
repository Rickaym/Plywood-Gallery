{
 "cells": [
  {
   "cell_type": "code",
   "execution_count": null,
   "metadata": {},
   "outputs": [],
   "source": [
    "import http.server\n",
    "import json\n",
    "import socketserver\n",
    "import threading\n",
    "import webbrowser\n",
    "from base64 import b64decode\n",
    "from io import BytesIO, StringIO\n",
    "from pathlib import Path\n",
    "\n",
    "import PIL\n",
    "from IPython.core import magic_arguments\n",
    "from IPython.core.magic import Magics, cell_magic, magics_class\n",
    "from IPython.display import display\n",
    "from IPython.utils.capture import capture_output\n",
    "\n",
    "class SilentServer(http.server.SimpleHTTPRequestHandler): #Opens the webserver and makes sure that there is no long log message\n",
    "    protocol_version = \"HTTP/1.0\"\n",
    "\n",
    "    def log_message(self, *args):\n",
    "        pass\n",
    "\n",
    "class ChapterConfig: #old\n",
    "    @staticmethod\n",
    "    def open_webpage(PORT = 8000):\n",
    "        def thread_function():\n",
    "            Handler = SilentServer\n",
    "            try: # make sure that server is not already running\n",
    "                with socketserver.TCPServer((\"\", PORT), Handler) as httpd:\n",
    "                    print(\"serving at port\", PORT)\n",
    "                    httpd.serve_forever()\n",
    "            except OSError:\n",
    "                pass\n",
    "\n",
    "        mythread = threading.Thread(target=thread_function)\n",
    "        mythread.start()\n",
    "\n",
    "        url  = f\"http://localhost:{PORT}/\"\n",
    "        print(f\"{url} will now be opened in your default browser. Closing this notebook will also shut the server\")\n",
    "        webbrowser.get('firefox').open_new_tab(url)\n",
    "\n",
    "ChapterConfig.open_webpage() #old"
   ]
  },
  {
   "cell_type": "code",
   "execution_count": null,
   "metadata": {},
   "outputs": [],
   "source": [
    "import sys # cool watchdogs approach\n",
    "import time \n",
    "import logging\n",
    "from watchdog.observers import Observer\n",
    "from watchdog.events import LoggingEventHandler\n",
    "    "
   ]
  },
  {
   "cell_type": "code",
   "execution_count": null,
   "metadata": {},
   "outputs": [],
   "source": [
    "logging.basicConfig(level=logging.INFO,\n",
    "                        format='%(asctime)s - %(message)s',\n",
    "                        datefmt='%Y-%m-%d %H:%M:%S')\n",
    "path = '.'\n",
    "event_handler = LoggingEventHandler()\n",
    "observer = Observer()\n",
    "observer.schedule(event_handler, path, recursive=True)\n",
    "observer.start()\n",
    "try:\n",
    "    while True:\n",
    "        time.sleep(1)\n",
    "finally:\n",
    "    observer.stop()\n",
    "    observer.join()"
   ]
  },
  {
   "cell_type": "code",
   "execution_count": null,
   "metadata": {},
   "outputs": [],
   "source": [
    "from flask import Flask, request\n",
    "app = Flask(__name__, static_url_path='')\n",
    "\n",
    "@app.route('/')\n",
    "def root():\n",
    "    return app.send_static_file('index.html')\n",
    "\n",
    "if __name__ == '__main__':\n",
    "  app.run(debug=True)"
   ]
  },
  {
   "cell_type": "code",
   "execution_count": null,
   "metadata": {},
   "outputs": [],
   "source": [
    "from flask import Flask, render_template # needs extra template folder\n",
    "app = Flask(__name__)\n",
    "\n",
    "@app.route('/')\n",
    "def home():\n",
    "   return render_template('index.html')\n",
    "if __name__ == '__main__':\n",
    "   app.run()"
   ]
  }
 ],
 "metadata": {
  "interpreter": {
   "hash": "881ef8f55983857dc9a935d8a9a9f01c85bf935df98336246e015c7b0b2f896e"
  },
  "kernelspec": {
   "display_name": "Python 3.9.5 64-bit ('plywood-gallery-bdCwKdj9-py3.9': poetry)",
   "language": "python",
   "name": "python3"
  },
  "language_info": {
   "codemirror_mode": {
    "name": "ipython",
    "version": 3
   },
   "file_extension": ".py",
   "mimetype": "text/x-python",
   "name": "python",
   "nbconvert_exporter": "python",
   "pygments_lexer": "ipython3",
   "version": "3.9.5"
  },
  "orig_nbformat": 4
 },
 "nbformat": 4,
 "nbformat_minor": 2
}
