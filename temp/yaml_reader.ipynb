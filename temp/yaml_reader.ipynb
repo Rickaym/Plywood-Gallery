{
 "cells": [
  {
   "cell_type": "code",
   "execution_count": 3,
   "metadata": {},
   "outputs": [
    {
     "name": "stdout",
     "output_type": "stream",
     "text": [
      "{'project_name': 'Plywood Gallery', 'repository_url': 'https://github.com/kolibril13/plywood-gallery', 'favicon': 'favicon.ico', 'custom_footer': '<div style=\\'position: absolute; bottom: 0; right: 0\\'>\\n  <a href=\"code_animation_idea.html\">Link to code animating idea!</a>\\n</div>\\n'}\n"
     ]
    }
   ],
   "source": [
    "from yaml import load, SafeLoader\n",
    "\n",
    "YamlString = \"\"\"\n",
    "project_name: Plywood Gallery\n",
    "\n",
    "repository_url: https://github.com/kolibril13/plywood-gallery\n",
    "favicon: favicon.ico\n",
    "\n",
    "custom_footer: |\n",
    "  <div style='position: absolute; bottom: 0; right: 0'>\n",
    "    <a href=\"code_animation_idea.html\">Link to code animating idea!</a>\n",
    "  </div>\n",
    "\"\"\"\n",
    "\n",
    "dict_ = load(YamlString, SafeLoader)\n",
    "print(dict_)"
   ]
  },
  {
   "cell_type": "code",
   "execution_count": 5,
   "metadata": {},
   "outputs": [
    {
     "name": "stdout",
     "output_type": "stream",
     "text": [
      "{'project_name': 'Plywood Gallery', 'repository_url': 'https://github.com/kolibril13/plywood-gallery', 'description': 'Info: Normal cells are independent of each other, and can be run togehter with the \"Header\" cell.\\nA \"Dependent\" cell depends on the \"Normal\" cell left to it.\\nA \"Dependent\" cell depends on another \"Dependent\" cell left to it.\\n', 'favicon': 'favicon.ico', 'custom_footer': '<div style=\"position: absolute; bottom: 0; right: 0\"> <a href=\"code_animation_idea.html\">\\nLink to code animating idea!</a></div>\\n', 'gallary_parameters_path': 'plywood_gallery/template/gallery_assets/gallery_parameters.json'}\n"
     ]
    }
   ],
   "source": [
    "from yaml import load, SafeLoader\n",
    "\n",
    "with open(\"html_configuration.yaml\", \"r\") as file:             \n",
    "  dict_ = load(file, SafeLoader)\n",
    "print(dict_)\n"
   ]
  },
  {
   "cell_type": "code",
   "execution_count": null,
   "metadata": {},
   "outputs": [],
   "source": []
  }
 ],
 "metadata": {
  "interpreter": {
   "hash": "2952ffede85d5ee814e7d7d53bb189c2d6659c3837bb58400800b4ce3939b697"
  },
  "kernelspec": {
   "display_name": "Python 3.9.10 ('plywood_gallery_env': venv)",
   "language": "python",
   "name": "python3"
  },
  "language_info": {
   "codemirror_mode": {
    "name": "ipython",
    "version": 3
   },
   "file_extension": ".py",
   "mimetype": "text/x-python",
   "name": "python",
   "nbconvert_exporter": "python",
   "pygments_lexer": "ipython3",
   "version": "3.9.10"
  },
  "orig_nbformat": 4
 },
 "nbformat": 4,
 "nbformat_minor": 2
}
