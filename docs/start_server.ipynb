{
 "cells": [
  {
   "cell_type": "code",
   "execution_count": 2,
   "metadata": {},
   "outputs": [
    {
     "data": {
      "text/plain": [
       "True"
      ]
     },
     "execution_count": 2,
     "metadata": {},
     "output_type": "execute_result"
    }
   ],
   "source": [
    "import webbrowser\n",
    "url  = f\"http://localhost:{8000}/\"\n",
    "webbrowser.open_new_tab(url)"
   ]
  },
  {
   "cell_type": "code",
   "execution_count": null,
   "metadata": {},
   "outputs": [],
   "source": [
    "#async\n",
    "#os.system()\n",
    "#multithreading"
   ]
  },
  {
   "cell_type": "code",
   "execution_count": 1,
   "metadata": {},
   "outputs": [],
   "source": [
    "# app.py\n",
    "import threading\n",
    "import http.server\n",
    "import socketserver\n",
    "\n",
    "class SilentServer(http.server.SimpleHTTPRequestHandler):\n",
    "    protocol_version = \"HTTP/1.0\"\n",
    "\n",
    "    def log_message(self, *args):\n",
    "        pass\n",
    "\n",
    "def thread_function():\n",
    "    PORT = 8000\n",
    "\n",
    "    Handler = SilentServer\n",
    "    try:\n",
    "        with socketserver.TCPServer((\"\", PORT), Handler) as httpd:\n",
    "            print(\"serving at port\", PORT)\n",
    "            httpd.serve_forever()\n",
    "    except OSError:\n",
    "        pass\n",
    "mythread = threading.Thread(target=thread_function)\n",
    "mythread.start()"
   ]
  },
  {
   "cell_type": "code",
   "execution_count": null,
   "metadata": {},
   "outputs": [],
   "source": [
    "i=3"
   ]
  }
 ],
 "metadata": {
  "interpreter": {
   "hash": "881ef8f55983857dc9a935d8a9a9f01c85bf935df98336246e015c7b0b2f896e"
  },
  "kernelspec": {
   "display_name": "Python 3.9.5 64-bit ('plywood-gallery-bdCwKdj9-py3.9': poetry)",
   "language": "python",
   "name": "python3"
  },
  "language_info": {
   "codemirror_mode": {
    "name": "ipython",
    "version": 3
   },
   "file_extension": ".py",
   "mimetype": "text/x-python",
   "name": "python",
   "nbconvert_exporter": "python",
   "pygments_lexer": "ipython3",
   "version": "3.9.5"
  },
  "orig_nbformat": 4
 },
 "nbformat": 4,
 "nbformat_minor": 2
}
