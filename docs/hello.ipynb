{
 "cells": [
  {
   "cell_type": "code",
   "execution_count": null,
   "metadata": {},
   "outputs": [],
   "source": [
    "import http.server\n",
    "import json\n",
    "import socketserver\n",
    "import threading\n",
    "import webbrowser\n",
    "from base64 import b64decode\n",
    "from io import BytesIO, StringIO\n",
    "from pathlib import Path\n",
    "\n",
    "import PIL\n",
    "from IPython.core import magic_arguments\n",
    "from IPython.core.magic import Magics, cell_magic, magics_class\n",
    "from IPython.display import display\n",
    "from IPython.utils.capture import capture_output\n",
    "\n",
    "class SilentServer(http.server.SimpleHTTPRequestHandler): #Opens the webserver and makes sure that there is no long log message\n",
    "    protocol_version = \"HTTP/1.0\"\n",
    "\n",
    "    def log_message(self, *args):\n",
    "        pass\n",
    "\n",
    "class ChapterManager:\n",
    "    @staticmethod\n",
    "    def open_webpage(PORT = 8000):\n",
    "        def thread_function():\n",
    "            Handler = SilentServer\n",
    "            try: # make sure that server is not already running\n",
    "                with socketserver.TCPServer((\"\", PORT), Handler) as httpd:\n",
    "                    print(\"serving at port\", PORT)\n",
    "                    httpd.serve_forever()\n",
    "            except OSError:\n",
    "                pass\n",
    "\n",
    "        mythread = threading.Thread(target=thread_function)\n",
    "        mythread.start()\n",
    "\n",
    "        url  = f\"http://localhost:{PORT}/\"\n",
    "        print(f\"{url} will now be opened in your default browser. Closing this notebook will also shut the server\")\n",
    "        webbrowser.get('firefox').open_new_tab(url)\n",
    "\n",
    "ChapterManager.open_webpage()"
   ]
  },
  {
   "cell_type": "code",
   "execution_count": null,
   "metadata": {},
   "outputs": [],
   "source": [
    "import sys # cool watchdogs approach\n",
    "import time \n",
    "import logging\n",
    "from watchdog.observers import Observer\n",
    "from watchdog.events import LoggingEventHandler\n",
    "    "
   ]
  },
  {
   "cell_type": "code",
   "execution_count": null,
   "metadata": {},
   "outputs": [],
   "source": [
    "logging.basicConfig(level=logging.INFO,\n",
    "                        format='%(asctime)s - %(message)s',\n",
    "                        datefmt='%Y-%m-%d %H:%M:%S')\n",
    "path = '.'\n",
    "event_handler = LoggingEventHandler()\n",
    "observer = Observer()\n",
    "observer.schedule(event_handler, path, recursive=True)\n",
    "observer.start()\n",
    "try:\n",
    "    while True:\n",
    "        time.sleep(1)\n",
    "finally:\n",
    "    observer.stop()\n",
    "    observer.join()"
   ]
  },
  {
   "cell_type": "code",
   "execution_count": null,
   "metadata": {},
   "outputs": [],
   "source": [
    "# Basic Flask Python Web App\n",
    "from flask import Flask\n",
    "app = Flask(__name__)\n",
    "@app.route(\"/\")\n",
    "def hello():\n",
    "    return \"Hello World!\"\n",
    "if __name__ == \"__main__\":\n",
    "    app.run()"
   ]
  },
  {
   "cell_type": "code",
   "execution_count": null,
   "metadata": {},
   "outputs": [],
   "source": [
    "from flask import Flask, request\n",
    "app = Flask(__name__, static_url_path='')\n",
    "\n",
    "@app.route('/')\n",
    "def root():\n",
    "    return app.send_static_file('index.html')\n",
    "\n",
    "if __name__ == '__main__':\n",
    "  app.run(debug=True)"
   ]
  },
  {
   "cell_type": "code",
   "execution_count": 1,
   "metadata": {},
   "outputs": [
    {
     "name": "stdout",
     "output_type": "stream",
     "text": [
      " * Serving Flask app '__main__' (lazy loading)\n",
      " * Environment: production\n",
      "\u001b[31m   WARNING: This is a development server. Do not use it in a production deployment.\u001b[0m\n",
      "\u001b[2m   Use a production WSGI server instead.\u001b[0m\n",
      " * Debug mode: off\n"
     ]
    },
    {
     "name": "stderr",
     "output_type": "stream",
     "text": [
      " * Running on http://127.0.0.1:5000/ (Press CTRL+C to quit)\n",
      "127.0.0.1 - - [21/Jan/2022 12:14:02] \"\u001b[33mGET /index HTTP/1.1\u001b[0m\" 404 -\n",
      "[2022-01-21 12:14:06,383] ERROR in app: Exception on / [GET]\n",
      "Traceback (most recent call last):\n",
      "  File \"/Users/jan-hendrik/Library/Caches/pypoetry/virtualenvs/plywood-gallery-bdCwKdj9-py3.9/lib/python3.9/site-packages/flask/app.py\", line 2073, in wsgi_app\n",
      "    response = self.full_dispatch_request()\n",
      "  File \"/Users/jan-hendrik/Library/Caches/pypoetry/virtualenvs/plywood-gallery-bdCwKdj9-py3.9/lib/python3.9/site-packages/flask/app.py\", line 1518, in full_dispatch_request\n",
      "    rv = self.handle_user_exception(e)\n",
      "  File \"/Users/jan-hendrik/Library/Caches/pypoetry/virtualenvs/plywood-gallery-bdCwKdj9-py3.9/lib/python3.9/site-packages/flask/app.py\", line 1516, in full_dispatch_request\n",
      "    rv = self.dispatch_request()\n",
      "  File \"/Users/jan-hendrik/Library/Caches/pypoetry/virtualenvs/plywood-gallery-bdCwKdj9-py3.9/lib/python3.9/site-packages/flask/app.py\", line 1502, in dispatch_request\n",
      "    return self.ensure_sync(self.view_functions[rule.endpoint])(**req.view_args)\n",
      "  File \"/var/folders/c3/3bzrl3qx043bknt1ycn3fcym0000gn/T/ipykernel_5103/1949646870.py\", line 9, in index\n",
      "    return render_template(\"index.html\")\n",
      "  File \"/Users/jan-hendrik/Library/Caches/pypoetry/virtualenvs/plywood-gallery-bdCwKdj9-py3.9/lib/python3.9/site-packages/flask/templating.py\", line 148, in render_template\n",
      "    ctx.app.jinja_env.get_or_select_template(template_name_or_list),\n",
      "  File \"/Users/jan-hendrik/Library/Caches/pypoetry/virtualenvs/plywood-gallery-bdCwKdj9-py3.9/lib/python3.9/site-packages/jinja2/environment.py\", line 1068, in get_or_select_template\n",
      "    return self.get_template(template_name_or_list, parent, globals)\n",
      "  File \"/Users/jan-hendrik/Library/Caches/pypoetry/virtualenvs/plywood-gallery-bdCwKdj9-py3.9/lib/python3.9/site-packages/jinja2/environment.py\", line 997, in get_template\n",
      "    return self._load_template(name, globals)\n",
      "  File \"/Users/jan-hendrik/Library/Caches/pypoetry/virtualenvs/plywood-gallery-bdCwKdj9-py3.9/lib/python3.9/site-packages/jinja2/environment.py\", line 958, in _load_template\n",
      "    template = self.loader.load(self, name, self.make_globals(globals))\n",
      "  File \"/Users/jan-hendrik/Library/Caches/pypoetry/virtualenvs/plywood-gallery-bdCwKdj9-py3.9/lib/python3.9/site-packages/jinja2/loaders.py\", line 125, in load\n",
      "    source, filename, uptodate = self.get_source(environment, name)\n",
      "  File \"/Users/jan-hendrik/Library/Caches/pypoetry/virtualenvs/plywood-gallery-bdCwKdj9-py3.9/lib/python3.9/site-packages/flask/templating.py\", line 59, in get_source\n",
      "    return self._get_source_fast(environment, template)\n",
      "  File \"/Users/jan-hendrik/Library/Caches/pypoetry/virtualenvs/plywood-gallery-bdCwKdj9-py3.9/lib/python3.9/site-packages/flask/templating.py\", line 95, in _get_source_fast\n",
      "    raise TemplateNotFound(template)\n",
      "jinja2.exceptions.TemplateNotFound: index.html\n",
      "127.0.0.1 - - [21/Jan/2022 12:14:06] \"\u001b[35m\u001b[1mGET / HTTP/1.1\u001b[0m\" 500 -\n"
     ]
    }
   ],
   "source": [
    "from flask import Flask\n",
    "\n",
    "app = Flask(__name__)\n",
    "\n",
    "from flask import render_template\n",
    "\n",
    "@app.route(\"/\")\n",
    "def index():\n",
    "    return render_template(\"index.html\")\n",
    "app.run()"
   ]
  },
  {
   "cell_type": "code",
   "execution_count": null,
   "metadata": {},
   "outputs": [],
   "source": []
  }
 ],
 "metadata": {
  "interpreter": {
   "hash": "881ef8f55983857dc9a935d8a9a9f01c85bf935df98336246e015c7b0b2f896e"
  },
  "kernelspec": {
   "display_name": "Python 3.9.5 64-bit ('plywood-gallery-bdCwKdj9-py3.9': poetry)",
   "language": "python",
   "name": "python3"
  },
  "language_info": {
   "codemirror_mode": {
    "name": "ipython",
    "version": 3
   },
   "file_extension": ".py",
   "mimetype": "text/x-python",
   "name": "python",
   "nbconvert_exporter": "python",
   "pygments_lexer": "ipython3",
   "version": "3.9.5"
  },
  "orig_nbformat": 4
 },
 "nbformat": 4,
 "nbformat_minor": 2
}
