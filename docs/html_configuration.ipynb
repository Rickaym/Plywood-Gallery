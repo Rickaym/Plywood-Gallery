{
 "cells": [
  {
   "cell_type": "code",
   "execution_count": 3,
   "metadata": {},
   "outputs": [
    {
     "name": "stdout",
     "output_type": "stream",
     "text": [
      "Sucessfuly created /Users/jan-hendrik/projects/plywood-gallery/docs/index.html\n"
     ]
    }
   ],
   "source": [
    "from pathlib import Path\n",
    "from plywood_gallery import load_jinja2_template\n",
    "\n",
    "template = load_jinja2_template()\n",
    "index_file = Path.cwd() / \"index.html\"\n",
    "\n",
    "\n",
    "from yaml import load, SafeLoader\n",
    "\n",
    "with open(\"html_configuration.yaml\", \"r\") as file:             \n",
    "  html_configuration_parameter = load(file, SafeLoader)\n",
    "\n",
    "project_name= html_configuration_parameter['project_name']\n",
    "repository_url= html_configuration_parameter['repository_url']\n",
    "description=html_configuration_parameter['description']\n",
    "favicon=  html_configuration_parameter['favicon']\n",
    "custom_footer=  html_configuration_parameter['custom_footer']\n",
    "gallary_parameters_path= html_configuration_parameter['gallary_parameters_path']\n",
    "\n",
    "\n",
    "with open(index_file, \"w\") as fh:\n",
    "    fh.write(\n",
    "        template.render(\n",
    "            project_name=project_name,\n",
    "            repository_url=repository_url,\n",
    "            description = description,\n",
    "            favicon = favicon,\n",
    "            custom_footer= custom_footer,\n",
    "            gallary_parameters_path = gallary_parameters_path\n",
    "        )\n",
    "    )\n",
    "    print(f\"Sucessfuly created {index_file}\")\n"
   ]
  },
  {
   "cell_type": "code",
   "execution_count": 1,
   "metadata": {},
   "outputs": [],
   "source": []
  },
  {
   "cell_type": "code",
   "execution_count": 2,
   "metadata": {},
   "outputs": [
    {
     "data": {
      "text/plain": [
       "'Plywood Gallery'"
      ]
     },
     "execution_count": 2,
     "metadata": {},
     "output_type": "execute_result"
    }
   ],
   "source": [
    "project_name"
   ]
  },
  {
   "cell_type": "code",
   "execution_count": 3,
   "metadata": {},
   "outputs": [
    {
     "data": {
      "text/plain": [
       "'https://github.com/kolibril13/plywood-gallery'"
      ]
     },
     "execution_count": 3,
     "metadata": {},
     "output_type": "execute_result"
    }
   ],
   "source": [
    "repository_url"
   ]
  },
  {
   "cell_type": "code",
   "execution_count": 4,
   "metadata": {},
   "outputs": [
    {
     "data": {
      "text/plain": [
       "'Normal cells are independent of each other, and can be run togehter with the \"Header\" cell. <br>\\nA \"Dependent\" cell depends on the \"Normal\" cell left to it. <br>\\nA \"Dependent\" cell depends on another \"Dependent\" cell left to it.\\n'"
      ]
     },
     "execution_count": 4,
     "metadata": {},
     "output_type": "execute_result"
    }
   ],
   "source": [
    "description"
   ]
  },
  {
   "cell_type": "code",
   "execution_count": 5,
   "metadata": {},
   "outputs": [
    {
     "data": {
      "text/plain": [
       "'favicon.ico'"
      ]
     },
     "execution_count": 5,
     "metadata": {},
     "output_type": "execute_result"
    }
   ],
   "source": [
    "favicon"
   ]
  },
  {
   "cell_type": "code",
   "execution_count": 6,
   "metadata": {},
   "outputs": [
    {
     "data": {
      "text/plain": [
       "'<div style=\"position: absolute; bottom: 0; right: 0\"> <a href=\"code_animation_idea.html\">\\nLink to code animating idea!</a></div>\\n'"
      ]
     },
     "execution_count": 6,
     "metadata": {},
     "output_type": "execute_result"
    }
   ],
   "source": [
    "custom_footer"
   ]
  },
  {
   "cell_type": "code",
   "execution_count": 7,
   "metadata": {},
   "outputs": [
    {
     "data": {
      "text/plain": [
       "'plywood_gallery/template/gallery_assets/gallery_parameters.json'"
      ]
     },
     "execution_count": 7,
     "metadata": {},
     "output_type": "execute_result"
    }
   ],
   "source": [
    "gallary_parameters_path"
   ]
  },
  {
   "cell_type": "code",
   "execution_count": null,
   "metadata": {},
   "outputs": [],
   "source": [
    "\n",
    "# with open(index_file, \"w\") as fh:\n",
    "#     fh.write(\n",
    "#         template.render(\n",
    "#             project_name=\"Plywood Gallery\",\n",
    "#             repository_url=\"https://github.com/kolibril13/plywood-gallery\",\n",
    "#             description = \"\"\"Normal cells are independent of each other, and can be run togehter with the \"Header\" cell. <br>\n",
    "# A \"Dependent\" cell depends on the \"Normal\" cell left to it. <br>\n",
    "# A \"Dependent\" cell depends on another \"Dependent\" cell left to it.\"\"\",\n",
    "#             favicon = \"favicon.ico\",\n",
    "#             custom_footer=\"\"\"\"\"\",\n",
    "#             gallary_parameters_path = \"gallery_assets/gallery_parameters.json\"\n",
    "#         )\n",
    "#     )\n",
    "#     print(f\"Sucessfuly created {index_file}\")\n"
   ]
  }
 ],
 "metadata": {
  "interpreter": {
   "hash": "2952ffede85d5ee814e7d7d53bb189c2d6659c3837bb58400800b4ce3939b697"
  },
  "kernelspec": {
   "display_name": "Python 3.9.10 ('plywood_gallery_env': venv)",
   "language": "python",
   "name": "python3"
  },
  "language_info": {
   "codemirror_mode": {
    "name": "ipython",
    "version": 3
   },
   "file_extension": ".py",
   "mimetype": "text/x-python",
   "name": "python",
   "nbconvert_exporter": "python",
   "pygments_lexer": "ipython3",
   "version": "3.9.10"
  },
  "orig_nbformat": 4
 },
 "nbformat": 4,
 "nbformat_minor": 2
}
