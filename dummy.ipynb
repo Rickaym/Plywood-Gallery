{
 "cells": [
  {
   "cell_type": "code",
   "execution_count": 5,
   "metadata": {},
   "outputs": [],
   "source": [
    "from IPython.core import magic_arguments\n",
    "from IPython.core.magic import register_cell_magic\n",
    "\n",
    "@magic_arguments.magic_arguments()\n",
    "@magic_arguments.argument(\n",
    "    \"--path\",\n",
    "    \"-p\",\n",
    "    default=None,\n",
    "    help=(\"the path where the image will be saved to\"),\n",
    ")\n",
    "@magic_arguments.argument(\n",
    "    \"--style\",\n",
    "    \"-s\",\n",
    "    default=None,\n",
    "    help=(\"Add extra css style for the notebook appearance\"),\n",
    ")\n",
    "@magic_arguments.argument(\n",
    "    \"--celltype\",\n",
    "     \"-c\",\n",
    "    default=\"Normal\",\n",
    "    help=(\"Cell can be of ^type 'Normal', 'Header', and 'Dependend'\"),\n",
    ")\n",
    "@register_cell_magic\n",
    "def my_cell_magic(line, cell):\n",
    "    \"\"\"Saves the png image and the css style for the html page\"\"\"\n",
    "    args = magic_arguments.parse_argstring(my_cell_magic, line)\n",
    "\n",
    "    styles = {\n",
    "        'Normal': 'border: 3px solid #008DD5',\n",
    "        'Header': 'border: 3px solid #A8DCF0',\n",
    "        'Dependend': 'border: 3px solid #ED6A5A'\n",
    "    }\n",
    "\n",
    "    try:\n",
    "        default_style = styles[args.celltype]\n",
    "    except KeyError:\n",
    "        raise ValueError('Not a valid cell type!')\n",
    "\n",
    "    print(default_style)\n",
    "    print(args.celltype)\n",
    "    print(args.path)"
   ]
  },
  {
   "cell_type": "code",
   "execution_count": 6,
   "metadata": {},
   "outputs": [
    {
     "name": "stdout",
     "output_type": "stream",
     "text": [
      "border: 3px solid #008DD5\n",
      "Normal\n",
      "None\n"
     ]
    }
   ],
   "source": [
    "%%my_cell_magic  --style 23 \n",
    "\n",
    "pass"
   ]
  },
  {
   "cell_type": "code",
   "execution_count": 8,
   "metadata": {},
   "outputs": [
    {
     "name": "stdout",
     "output_type": "stream",
     "text": [
      "border: 3px solid #ED6A5A\n",
      "Dependend\n",
      "imgs/example01.png\n"
     ]
    }
   ],
   "source": [
    "%%my_cell_magic  -p imgs/example01.png --celltype Dependend --style Hello \n",
    "\n",
    "pass"
   ]
  },
  {
   "cell_type": "code",
   "execution_count": 21,
   "metadata": {},
   "outputs": [
    {
     "data": {
      "text/plain": [
       "'imgshello.png'"
      ]
     },
     "execution_count": 21,
     "metadata": {},
     "output_type": "execute_result"
    }
   ],
   "source": [
    "path = \"imgs/example01.png\"\n",
    "path.split(\"/\")[0] + \"hello\" + \".png\"\n"
   ]
  },
  {
   "cell_type": "code",
   "execution_count": 22,
   "metadata": {},
   "outputs": [],
   "source": [
    "prepath,postpath = path.rsplit('/', 1)\n",
    "f\"{prepath}/hello_{postpath}\""
   ]
  },
  {
   "cell_type": "code",
   "execution_count": 23,
   "metadata": {},
   "outputs": [
    {
     "data": {
      "text/plain": [
       "'imgs/hello_example01.png'"
      ]
     },
     "execution_count": 23,
     "metadata": {},
     "output_type": "execute_result"
    }
   ],
   "source": []
  },
  {
   "cell_type": "code",
   "execution_count": null,
   "metadata": {},
   "outputs": [],
   "source": []
  }
 ],
 "metadata": {
  "interpreter": {
   "hash": "deefdb209dc179ecbc880626fece8554a87baca41cae0d7b198759a4c27f783b"
  },
  "kernelspec": {
   "display_name": "Python 3.9.5 64-bit ('manimenv2': venv)",
   "language": "python",
   "name": "python3"
  },
  "language_info": {
   "codemirror_mode": {
    "name": "ipython",
    "version": 3
   },
   "file_extension": ".py",
   "mimetype": "text/x-python",
   "name": "python",
   "nbconvert_exporter": "python",
   "pygments_lexer": "ipython3",
   "version": "3.9.5"
  },
  "orig_nbformat": 4
 },
 "nbformat": 4,
 "nbformat_minor": 2
}
