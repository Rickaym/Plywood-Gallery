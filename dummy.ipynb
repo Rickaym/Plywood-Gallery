{
 "cells": [
  {
   "cell_type": "code",
   "execution_count": 2,
   "metadata": {},
   "outputs": [],
   "source": [
    "from IPython.core import magic_arguments\n",
    "from IPython.core.magic import register_cell_magic\n",
    "\n",
    "@magic_arguments.magic_arguments()\n",
    "@magic_arguments.argument(\n",
    "    \"--path\",\n",
    "    \"-p\",\n",
    "    default=None,\n",
    "    help=(\"the path where the image will be saved to\"),\n",
    ")\n",
    "@magic_arguments.argument(\n",
    "    \"--style\",\n",
    "    \"-s\",\n",
    "    default=None,\n",
    "    help=(\"Add extra css style for the notebook appearance\"),\n",
    ")\n",
    "@magic_arguments.argument(\n",
    "    \"--celltype\",\n",
    "     \"-c\",\n",
    "    default=\"Normal\",\n",
    "    help=(\"Cell can be of type 'Normal', 'Header', and 'Dependent'\"),\n",
    ")\n",
    "@register_cell_magic\n",
    "def my_cell_magic(line, cell):\n",
    "    \"\"\"Saves the png image and the css style for the html page\"\"\"\n",
    "    args = magic_arguments.parse_argstring(my_cell_magic, line)\n",
    "\n",
    "    styles = {\n",
    "        'Normal': 'border: 3px solid #008DD5',\n",
    "        'Header': 'border: 3px solid #A8DCF0',\n",
    "        'Dependend': 'border: 3px solid #ED6A5A'\n",
    "    }\n",
    "\n",
    "    try:\n",
    "        default_style = styles[args.celltype]\n",
    "    except KeyError:\n",
    "        raise ValueError('Not a valid cell type!')\n",
    "\n",
    "    print(default_style)\n",
    "    print(args.celltype)\n",
    "    print(args.path)"
   ]
  },
  {
   "cell_type": "code",
   "execution_count": 2,
   "metadata": {},
   "outputs": [],
   "source": [
    "import json\n",
    "import os\n",
    "import shutil\n",
    "import time\n",
    "from base64 import b64decode\n",
    "from io import BytesIO\n",
    "from IPython import get_ipython\n",
    "from IPython.core.magic import register_cell_magic\n",
    "\n",
    "from pathlib import Path\n",
    "import matplotlib.pyplot as plt\n",
    "import numpy as np\n",
    "import PIL\n",
    "import seaborn as sns"
   ]
  },
  {
   "cell_type": "code",
   "execution_count": 1,
   "metadata": {},
   "outputs": [
    {
     "name": "stdout",
     "output_type": "stream",
     "text": [
      "3\n"
     ]
    }
   ],
   "source": [
    "def counted(f):\n",
    "    def wrapped(*args, **kwargs):\n",
    "        wrapped.calls += 1\n",
    "        return f(*args, **kwargs)\n",
    "    wrapped.calls = 0\n",
    "    return wrapped\n",
    "\n",
    "class MyList(list):\n",
    "    @counted\n",
    "    def pop(self, *args, **kwargs):\n",
    "        return list.pop(self, *args, **kwargs)\n",
    "\n",
    "x = MyList([1, 2, 3, 4, 5])\n",
    "for i in range(3):\n",
    "    x.pop()\n",
    "\n",
    "print(x.pop.calls) # prints 3"
   ]
  },
  {
   "cell_type": "code",
   "execution_count": 3,
   "metadata": {},
   "outputs": [],
   "source": [
    "from plywood_tools import clean_all"
   ]
  },
  {
   "cell_type": "code",
   "execution_count": 4,
   "metadata": {},
   "outputs": [],
   "source": [
    "path = Path.cwd() / \"gallery_assets\"\n",
    "clean_all(path)"
   ]
  },
  {
   "cell_type": "code",
   "execution_count": null,
   "metadata": {},
   "outputs": [],
   "source": []
  }
 ],
 "metadata": {
  "interpreter": {
   "hash": "deefdb209dc179ecbc880626fece8554a87baca41cae0d7b198759a4c27f783b"
  },
  "kernelspec": {
   "display_name": "Python 3.9.5 64-bit ('manimenv2': venv)",
   "language": "python",
   "name": "python3"
  },
  "language_info": {
   "codemirror_mode": {
    "name": "ipython",
    "version": 3
   },
   "file_extension": ".py",
   "mimetype": "text/x-python",
   "name": "python",
   "nbconvert_exporter": "python",
   "pygments_lexer": "ipython3",
   "version": "3.9.5"
  },
  "orig_nbformat": 4
 },
 "nbformat": 4,
 "nbformat_minor": 2
}
