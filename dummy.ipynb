{
 "cells": [
  {
   "cell_type": "code",
   "execution_count": 5,
   "metadata": {},
   "outputs": [],
   "source": [
    "from IPython.core import magic_arguments\n",
    "from IPython.core.magic import register_cell_magic\n",
    "\n",
    "@magic_arguments.magic_arguments()\n",
    "@magic_arguments.argument(\n",
    "    \"--path\",\n",
    "    \"-p\",\n",
    "    default=None,\n",
    "    help=(\"the path where the image will be saved to\"),\n",
    ")\n",
    "@magic_arguments.argument(\n",
    "    \"--style\",\n",
    "    \"-s\",\n",
    "    default=None,\n",
    "    help=(\"Add extra css style for the notebook appearance\"),\n",
    ")\n",
    "@magic_arguments.argument(\n",
    "    \"--celltype\",\n",
    "     \"-c\",\n",
    "    default=\"Normal\",\n",
    "    help=(\"Cell can be of ^type 'Normal', 'Header', and 'Dependend'\"),\n",
    ")\n",
    "@register_cell_magic\n",
    "def my_cell_magic(line, cell):\n",
    "    \"\"\"Saves the png image and the css style for the html page\"\"\"\n",
    "    args = magic_arguments.parse_argstring(my_cell_magic, line)\n",
    "\n",
    "    styles = {\n",
    "        'Normal': 'border: 3px solid #008DD5',\n",
    "        'Header': 'border: 3px solid #A8DCF0',\n",
    "        'Dependend': 'border: 3px solid #ED6A5A'\n",
    "    }\n",
    "\n",
    "    try:\n",
    "        default_style = styles[args.celltype]\n",
    "    except KeyError:\n",
    "        raise ValueError('Not a valid cell type!')\n",
    "\n",
    "    print(default_style)\n",
    "    print(args.celltype)\n",
    "    print(args.path)"
   ]
  },
  {
   "cell_type": "code",
   "execution_count": 6,
   "metadata": {},
   "outputs": [
    {
     "name": "stdout",
     "output_type": "stream",
     "text": [
      "border: 3px solid #008DD5\n",
      "Normal\n",
      "None\n"
     ]
    }
   ],
   "source": [
    "%%my_cell_magic  --style 23 \n",
    "\n",
    "pass"
   ]
  },
  {
   "cell_type": "code",
   "execution_count": 7,
   "metadata": {},
   "outputs": [
    {
     "name": "stdout",
     "output_type": "stream",
     "text": [
      "border: 3px solid #ED6A5A\n",
      "Dependend\n",
      "imgs/example01.png\n"
     ]
    }
   ],
   "source": [
    "%%my_cell_magic  -p imgs/example01.png --celltype Dependend --style Hello \n",
    "\n",
    "pass"
   ]
  },
  {
   "cell_type": "code",
   "execution_count": 3,
   "metadata": {},
   "outputs": [],
   "source": [
    "from IPython.core.magic import register_cell_magic\n",
    "from IPython.core.magic_arguments import (argument, magic_arguments,\n",
    "                                          parse_argstring)\n",
    "\n",
    "\n",
    "@magic_arguments()\n",
    "@argument(\n",
    "    \"--option\",\n",
    "    \"-o\",\n",
    "    help=(\"Add an option here\"),\n",
    ")\n",
    "@argument(\n",
    "    \"--style\",\n",
    "    \"-s\",\n",
    "    default=\"foo\",\n",
    "    help=(\"Add some style arguments\"),\n",
    ")\n",
    "@register_cell_magic\n",
    "def my_cell_magic(line, cell):\n",
    "    args = parse_argstring(my_cell_magic, line)\n",
    "    print(f\"{args.option=}\")\n",
    "    print(f\"{args.style=}\")\n",
    "    print(f\"{cell=}\")\n"
   ]
  },
  {
   "cell_type": "code",
   "execution_count": 4,
   "metadata": {},
   "outputs": [
    {
     "name": "stdout",
     "output_type": "stream",
     "text": [
      "args.option='Hello'\n",
      "args.style='foo'\n",
      "cell='print(\"bar\")\\ni = 42\\n'\n"
     ]
    }
   ],
   "source": [
    "%%my_cell_magic -o Hello\n",
    "print(\"bar\")\n",
    "i = 42"
   ]
  },
  {
   "cell_type": "code",
   "execution_count": null,
   "metadata": {},
   "outputs": [],
   "source": []
  }
 ],
 "metadata": {
  "interpreter": {
   "hash": "deefdb209dc179ecbc880626fece8554a87baca41cae0d7b198759a4c27f783b"
  },
  "kernelspec": {
   "display_name": "Python 3.9.5 64-bit ('manimenv2': venv)",
   "language": "python",
   "name": "python3"
  },
  "language_info": {
   "codemirror_mode": {
    "name": "ipython",
    "version": 3
   },
   "file_extension": ".py",
   "mimetype": "text/x-python",
   "name": "python",
   "nbconvert_exporter": "python",
   "pygments_lexer": "ipython3",
   "version": "3.9.5"
  },
  "orig_nbformat": 4
 },
 "nbformat": 4,
 "nbformat_minor": 2
}
