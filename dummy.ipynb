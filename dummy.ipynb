{
 "cells": [
  {
   "cell_type": "code",
   "execution_count": 14,
   "metadata": {},
   "outputs": [],
   "source": [
    "from IPython.core.magic_arguments import (argument, magic_arguments,\n",
    "    parse_argstring)\n",
    "\n",
    "from IPython.core.magic import register_cell_magic\n",
    "\n",
    "@register_cell_magic\n",
    "@magic_arguments()\n",
    "@argument('-o', '--option', help='An optional argument.')\n",
    "def magic_cool(self, arg):\n",
    "    \"\"\" A really cool magic command.\n",
    "\n",
    "\"\"\"\n",
    "    args = parse_argstring(magic_cool, arg)\n",
    "   # print(args)"
   ]
  },
  {
   "cell_type": "code",
   "execution_count": 77,
   "metadata": {},
   "outputs": [
    {
     "name": "stderr",
     "output_type": "stream",
     "text": [
      "UsageError: unrecognized arguments: print(\"hi\")\n"
     ]
    }
   ],
   "source": [
    "%%magic_cool --option HELLO\n",
    "print(\"hi\")"
   ]
  },
  {
   "cell_type": "code",
   "execution_count": 70,
   "metadata": {},
   "outputs": [
    {
     "name": "stdout",
     "output_type": "stream",
     "text": [
      "\u001b[0;31mDocstring:\u001b[0m\n",
      "::\n",
      "\n",
      "  %cool [-o OPTION]\n",
      "\n",
      " A really cool magic command.\n",
      "\n",
      "optional arguments:\n",
      "  -o OPTION, --option OPTION\n",
      "                        An optional argument.\n",
      "\u001b[0;31mFile:\u001b[0m      ~/projects/plywood/<ipython-input-68-de6c0cc80ef8>\n"
     ]
    }
   ],
   "source": [
    "? %%magic_cool"
   ]
  },
  {
   "cell_type": "code",
   "execution_count": 45,
   "metadata": {},
   "outputs": [
    {
     "data": {
      "text/plain": [
       "[' imgs/example01.png  ',\n",
       " 'celltype header   ',\n",
       " 'style \"border: 3px solid #ED6A5A\"']"
      ]
     },
     "execution_count": 45,
     "metadata": {},
     "output_type": "execute_result"
    }
   ],
   "source": [
    "line = ' imgs/example01.png  --celltype header   --style \"border: 3px solid #ED6A5A\"'\n",
    "line.split('--')\n",
    "for argu in line:\n",
    "    if  \"celltype\" in argu:\n",
    "        celltype = argu.strip(\"celltype\")\n",
    "    if  \"style\" in argu:\n",
    "        celltype = argu.strip(\"style\")\n"
   ]
  },
  {
   "cell_type": "code",
   "execution_count": 33,
   "metadata": {},
   "outputs": [],
   "source": [
    "\n",
    "from IPython.core import magic_arguments\n",
    "from IPython.core.magic import register_cell_magic\n",
    "\n",
    "\n",
    "@magic_arguments.magic_arguments()\n",
    "@magic_arguments.argument(\n",
    "    \"--params\",\n",
    "    nargs=\"+\",\n",
    "    default=None,\n",
    "    help=(\n",
    "        \"Parameters to format the query string. If present, the --params \"\n",
    "        \"flag should be followed by a string representation of a dictionary \"\n",
    "        \"in the format {'param_name': 'param_value'} (ex. {\\\"num\\\": 17}), \"\n",
    "        \"or a reference to a dictionary in the same format. The dictionary \"\n",
    "        \"reference can be made by including a '$' before the variable \"\n",
    "        \"name (ex. $my_dict_var).\"\n",
    "    ),\n",
    ")\n",
    "@register_cell_magic\n",
    "def my_cell_magic(line, query):\n",
    "    \"\"\"Underlying function for bigquery cell magic\"\"\"\n",
    "    args =magic_arguments.parse_argstring(my_cell_magic, line)\n",
    "    print(args.params)\n"
   ]
  },
  {
   "cell_type": "code",
   "execution_count": 34,
   "metadata": {},
   "outputs": [
    {
     "name": "stdout",
     "output_type": "stream",
     "text": [
      "['Hello']\n"
     ]
    }
   ],
   "source": [
    "%%my_cell_magic  --params Hello\n",
    "\n",
    "u=34"
   ]
  },
  {
   "cell_type": "code",
   "execution_count": null,
   "metadata": {},
   "outputs": [],
   "source": []
  }
 ],
 "metadata": {
  "interpreter": {
   "hash": "deefdb209dc179ecbc880626fece8554a87baca41cae0d7b198759a4c27f783b"
  },
  "kernelspec": {
   "display_name": "Python 3.9.5 64-bit ('manimenv2': venv)",
   "language": "python",
   "name": "python3"
  },
  "language_info": {
   "codemirror_mode": {
    "name": "ipython",
    "version": 3
   },
   "file_extension": ".py",
   "mimetype": "text/x-python",
   "name": "python",
   "nbconvert_exporter": "python",
   "pygments_lexer": "ipython3",
   "version": "3.9.5"
  },
  "orig_nbformat": 4
 },
 "nbformat": 4,
 "nbformat_minor": 2
}
