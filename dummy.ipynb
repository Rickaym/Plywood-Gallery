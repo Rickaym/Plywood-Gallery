{
 "cells": [
  {
   "cell_type": "markdown",
   "metadata": {},
   "source": [
    "# Notebook tester"
   ]
  },
  {
   "cell_type": "code",
   "execution_count": 4,
   "metadata": {},
   "outputs": [],
   "source": [
    "from plywood_gallery import ChapterManager\n",
    "#ChapterManager.clean_all()"
   ]
  },
  {
   "cell_type": "code",
   "execution_count": 5,
   "metadata": {},
   "outputs": [
    {
     "data": {
      "text/plain": [
       "'Array 2D'"
      ]
     },
     "execution_count": 5,
     "metadata": {},
     "output_type": "execute_result"
    }
   ],
   "source": [
    "from plywood_gallery import ChapterManager\n",
    "ChapterManager.set_chapter_name(\"Array 2D\")\n",
    "ChapterManager.chapter_name"
   ]
  },
  {
   "cell_type": "code",
   "execution_count": 6,
   "metadata": {},
   "outputs": [
    {
     "name": "stdout",
     "output_type": "stream",
     "text": [
      "None\n",
      "asdjknmkajsd\n",
      "hello Test magic\n"
     ]
    }
   ],
   "source": [
    "%%capture_png_test --celltype asdjknmkajsd\n",
    "import matplotlib.pyplot as plt\n",
    "plt.plot([1,2],[10,20])"
   ]
  },
  {
   "cell_type": "markdown",
   "metadata": {},
   "source": [
    "# Testing dummy:"
   ]
  },
  {
   "cell_type": "code",
   "execution_count": 36,
   "metadata": {},
   "outputs": [
    {
     "name": "stdout",
     "output_type": "stream",
     "text": [
      "0\n",
      "1\n",
      "Chapter1\n",
      "Chapter2\n"
     ]
    }
   ],
   "source": [
    "class ChapterManager():\n",
    "    cell_counter = 0\n",
    "    chapter_name = \"\"\n",
    "    @staticmethod\n",
    "    def init_chapter(new_chapter):\n",
    "        ChapterManager.chapter_name =  new_chapter     \n",
    "\n",
    "print(ChapterManager.cell_counter)\n",
    "ChapterManager.cell_counter += 1\n",
    "print(ChapterManager.cell_counter)\n",
    "\n",
    "ChapterManager.init_chapter(\"Chapter1\")\n",
    "print(ChapterManager.chapter_name)\n",
    "ChapterManager.init_chapter(\"Chapter2\")\n",
    "print(ChapterManager.chapter_name)"
   ]
  }
 ],
 "metadata": {
  "interpreter": {
   "hash": "deefdb209dc179ecbc880626fece8554a87baca41cae0d7b198759a4c27f783b"
  },
  "kernelspec": {
   "display_name": "Python 3.9.5 64-bit ('manimenv2': venv)",
   "language": "python",
   "name": "python3"
  },
  "language_info": {
   "codemirror_mode": {
    "name": "ipython",
    "version": 3
   },
   "file_extension": ".py",
   "mimetype": "text/x-python",
   "name": "python",
   "nbconvert_exporter": "python",
   "pygments_lexer": "ipython3",
   "version": "3.9.5"
  },
  "orig_nbformat": 4
 },
 "nbformat": 4,
 "nbformat_minor": 2
}
