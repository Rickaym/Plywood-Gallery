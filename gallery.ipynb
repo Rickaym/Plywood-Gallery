{
 "cells": [
  {
   "cell_type": "code",
   "execution_count": 112,
   "metadata": {},
   "outputs": [],
   "source": [
    "import json\n",
    "import os\n",
    "import shutil\n",
    "import time\n",
    "from base64 import b64decode\n",
    "from io import BytesIO\n",
    "from IPython import get_ipython\n",
    "from IPython.core.magic import register_cell_magic\n",
    "\n",
    "from pathlib import Path\n",
    "import matplotlib.pyplot as plt\n",
    "import numpy as np\n",
    "import PIL\n",
    "import seaborn as sns\n",
    "\n",
    "\n",
    "@register_cell_magic\n",
    "def capture_png(line, cell):\n",
    "\n",
    "    # init capturing cell output\n",
    "    get_ipython().run_cell_magic(\n",
    "        'capture',\n",
    "        ' --no-stderr --no-stdout result',\n",
    "        cell\n",
    "    )\n",
    "\n",
    "    code_block = cell\n",
    "\n",
    "    argument_array = line.split('--style')\n",
    "    path = argument_array[0].strip()\n",
    "    path = path.split(\".png\")[0] + str(time.time_ns()) + \".png\"\n",
    "    if not path:\n",
    "        raise ValueError('No path found!')\n",
    "\n",
    "    individual_style = str(*argument_array[1:])\n",
    "    individual_style = individual_style.strip()\n",
    "    individual_style = individual_style.strip('\"')  # remove quotes\n",
    "\n",
    "    global cell_counter  # for highlighting the first cell\n",
    "    cell_counter += 1\n",
    "    if cell_counter == 1:\n",
    "        first_highlight_style = \"border: 3px solid #ED6A5A;\"\n",
    "    else:\n",
    "        first_highlight_style = \"border: 3px solid #008DD5;\"\n",
    "\n",
    "    style = first_highlight_style + individual_style\n",
    "\n",
    "    # read + update + write json\n",
    "    with open(joson_file_path, \"r\") as jsonFile:\n",
    "        data = json.load(jsonFile)\n",
    "\n",
    "    data[path[5:]] = [chapter_name, code_block, style]\n",
    "\n",
    "    with open(joson_file_path, \"w\") as jsonFile:\n",
    "        json.dump(data, jsonFile, indent=2)\n",
    "\n",
    "    # save image\n",
    "    for output in result.outputs:\n",
    "        display(output)\n",
    "        data = output.data\n",
    "        if 'image/png' in data:\n",
    "            png_bytes = data['image/png']\n",
    "            if isinstance(png_bytes, str):\n",
    "                png_bytes = b64decode(png_bytes)\n",
    "            assert isinstance(png_bytes, bytes)\n",
    "            bytes_io = BytesIO(png_bytes)\n",
    "            image = PIL.Image.open(bytes_io)\n",
    "            image.save(path, 'png')\n"
   ]
  },
  {
   "cell_type": "markdown",
   "metadata": {},
   "source": [
    "# 2D Arrays"
   ]
  },
  {
   "cell_type": "code",
   "execution_count": 113,
   "metadata": {},
   "outputs": [],
   "source": [
    "# init variables\n",
    "cell_counter = 0\n",
    "joson_file_path = \"imgs/gallery_parameters.json\"\n",
    "chapter_name = \"2D Arrays\""
   ]
  },
  {
   "cell_type": "code",
   "execution_count": 114,
   "metadata": {},
   "outputs": [
    {
     "data": {
      "image/png": "[encoded data removed]",
      "text/plain": [
       "<Figure size 360x360 with 1 Axes>"
      ]
     },
     "metadata": {
      "needs_background": "light"
     },
     "output_type": "display_data"
    }
   ],
   "source": [
    "%%capture_png imgs/example.png   --style \"border: 7px solid #ED6A5A\"\n",
    "\n",
    "def disp(x, sep=\".0f\", annot=False,  figsize=(5, 5)):\n",
    "    plt.figure(figsize=figsize)\n",
    "    plt.axis(\"off\")\n",
    "    sns.heatmap(x, annot=annot, fmt=sep, cmap=\"YlGnBu\", cbar=False)\n",
    "\n",
    "#Checkboard\n",
    "pixX, pixY= (15, 15)\n",
    "array = [[(i+j)%2 for i in range(pixX)] for j in range(pixY)]\n",
    "disp(array)"
   ]
  },
  {
   "cell_type": "code",
   "execution_count": 115,
   "metadata": {
    "tags": []
   },
   "outputs": [
    {
     "data": {
      "image/png": "[encoded data removed]",
      "text/plain": [
       "<Figure size 360x360 with 1 Axes>"
      ]
     },
     "metadata": {
      "needs_background": "light"
     },
     "output_type": "display_data"
    }
   ],
   "source": [
    "%%capture_png imgs/example.png --style \"border: 3px solid #008DD5;\"\n",
    "#from 4 regions\n",
    "array = np.ones((15,15))+30\n",
    "disp(array)"
   ]
  },
  {
   "cell_type": "code",
   "execution_count": 116,
   "metadata": {},
   "outputs": [
    {
     "data": {
      "image/png": "[encoded data removed]",
      "text/plain": [
       "<Figure size 360x360 with 1 Axes>"
      ]
     },
     "metadata": {
      "needs_background": "light"
     },
     "output_type": "display_data"
    }
   ],
   "source": [
    "%%capture_png imgs/example.png\n",
    "#Linear diagonal\n",
    "array = [[i+j for i in range(pixX)] for j in range(pixY)]\n",
    "disp(array)"
   ]
  },
  {
   "cell_type": "code",
   "execution_count": 117,
   "metadata": {},
   "outputs": [
    {
     "data": {
      "image/png": "[encoded data removed]",
      "text/plain": [
       "<Figure size 360x360 with 1 Axes>"
      ]
     },
     "metadata": {
      "needs_background": "light"
     },
     "output_type": "display_data"
    }
   ],
   "source": [
    "%%capture_png imgs/example.png\n",
    "#Random\n",
    "array = np.random.randint(0, 10, size=(15, 15))\n",
    "disp(array)"
   ]
  },
  {
   "cell_type": "code",
   "execution_count": 118,
   "metadata": {},
   "outputs": [
    {
     "data": {
      "image/png": "[encoded data removed]",
      "text/plain": [
       "<Figure size 360x360 with 1 Axes>"
      ]
     },
     "metadata": {
      "needs_background": "light"
     },
     "output_type": "display_data"
    }
   ],
   "source": [
    "%%capture_png imgs/example.png\n",
    "#Gaussian\n",
    "pixX,pixY=(15,15)\n",
    "x, y = np.meshgrid(np.linspace(-1,1,pixX), np.linspace(-1,1,pixY))\n",
    "d = np.sqrt(x**2+y**2)\n",
    "sigma, mu = 1.0, 0.0\n",
    "array = np.exp(-( (d-mu)**2 / ( 2.0 * sigma**2 ) ) )\n",
    "disp(array, sep='.1f' )"
   ]
  },
  {
   "cell_type": "code",
   "execution_count": 119,
   "metadata": {},
   "outputs": [],
   "source": [
    "# 3D Arrays"
   ]
  },
  {
   "cell_type": "code",
   "execution_count": 120,
   "metadata": {},
   "outputs": [],
   "source": [
    "# init variables\n",
    "cell_counter = 0\n",
    "joson_file_path = \"imgs/gallery_parameters.json\"\n",
    "chapter_name = \"More dimensions\""
   ]
  },
  {
   "cell_type": "code",
   "execution_count": 121,
   "metadata": {},
   "outputs": [
    {
     "data": {
      "image/png": "[encoded data removed]",
      "text/plain": [
       "<Figure size 360x360 with 1 Axes>"
      ]
     },
     "metadata": {
      "needs_background": "light"
     },
     "output_type": "display_data"
    }
   ],
   "source": [
    "%%capture_png imgs/example.png --style \"border: 5px solid #ED6A5A; width: 150px\" \n",
    "#Gaussian\n",
    "pixX,pixY=(15,15)\n",
    "x, y = np.meshgrid(np.linspace(-1,1,pixX), np.linspace(-1,1,pixY))\n",
    "d = np.sqrt(x**2+y**2)\n",
    "sigma, mu = 1.0, 0.0\n",
    "array = np.exp(-( (d-mu)**2 / ( 2.0 * sigma**2 ) ) )\n",
    "disp(array, sep='.1f' )"
   ]
  },
  {
   "cell_type": "code",
   "execution_count": null,
   "metadata": {},
   "outputs": [],
   "source": []
  },
  {
   "cell_type": "code",
   "execution_count": null,
   "metadata": {},
   "outputs": [],
   "source": []
  }
 ],
 "metadata": {
  "kernelspec": {
   "display_name": "Python 3",
   "language": "python",
   "name": "python3"
  },
  "language_info": {
   "codemirror_mode": {
    "name": "ipython",
    "version": 3
   },
   "file_extension": ".py",
   "mimetype": "text/x-python",
   "name": "python",
   "nbconvert_exporter": "python",
   "pygments_lexer": "ipython3",
   "version": "3.9.5"
  }
 },
 "nbformat": 4,
 "nbformat_minor": 4
}
