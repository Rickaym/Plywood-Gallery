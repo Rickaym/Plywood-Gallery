{
 "cells": [
  {
   "cell_type": "code",
   "execution_count": 1,
   "metadata": {},
   "outputs": [],
   "source": [
    "import json\n",
    "import os\n",
    "import shutil\n",
    "import time\n",
    "from base64 import b64decode\n",
    "from io import BytesIO\n",
    "from IPython import get_ipython\n",
    "from IPython.core.magic import register_cell_magic\n",
    "\n",
    "from pathlib import Path\n",
    "import matplotlib.pyplot as plt\n",
    "import numpy as np\n",
    "import PIL\n",
    "import seaborn as sns\n",
    "#%config InlineBackend.figure_format = 'svg'  \n",
    "\n",
    "@register_cell_magic\n",
    "def capture_png(line, cell):\n",
    "    get_ipython().run_cell_magic(\n",
    "        'capture',\n",
    "        ' --no-stderr --no-stdout result',\n",
    "        cell\n",
    "    )\n",
    "    code =cell\n",
    "\n",
    "    out_paths = line.strip().split(' ')\n",
    "    for output in result.outputs:\n",
    "        display(output)\n",
    "        data = output.data\n",
    "        if 'image/png' in data:\n",
    "            path = out_paths.pop(0)\n",
    "            path = path.split(\".png\")[0] + str(time.time_ns()) + \".png\"\n",
    "            if not path:\n",
    "                raise ValueError('Too few paths given!')\n",
    "            png_bytes = data['image/png']\n",
    "            if isinstance(png_bytes, str):\n",
    "                png_bytes = b64decode(png_bytes)\n",
    "            assert isinstance(png_bytes, bytes)\n",
    "            bytes_io = BytesIO(png_bytes)\n",
    "            image = PIL.Image.open(bytes_io)\n",
    "            image.save(path, 'png')\n",
    "            \n",
    "\n",
    "        joson_file_path = \"imgs/array_gallery.json\"\n",
    "\n",
    "        with open(joson_file_path, \"r\") as jsonFile:\n",
    "            data = json.load(jsonFile)\n",
    "\n",
    "        data[path[5:]] = code\n",
    "\n",
    "        with open(joson_file_path, \"w\") as jsonFile:\n",
    "            json.dump(data, jsonFile, indent=2)\n",
    "\n",
    "\n",
    "def disp(x, sep='.0f', annot=False,  figsize=(5,5)): \n",
    "    plt.figure(figsize =figsize)\n",
    "    plt.axis(\"off\")\n",
    "    sns.heatmap(x,annot=annot,fmt=sep, cmap=\"YlGnBu\", cbar=False); # Change range with: vmin=0, vmax=1\n",
    "        \n",
    "temp_path = Path.cwd() / \"temp_images\"\n",
    "temp_path.mkdir(parents=False, exist_ok=True)"
   ]
  },
  {
   "cell_type": "markdown",
   "metadata": {},
   "source": [
    "# 2D Arrays"
   ]
  },
  {
   "cell_type": "code",
   "execution_count": 2,
   "metadata": {},
   "outputs": [
    {
     "data": {
      "image/png": "[encoded data removed]",
      "text/plain": [
       "<Figure size 360x360 with 1 Axes>"
      ]
     },
     "metadata": {
      "needs_background": "light"
     },
     "output_type": "display_data"
    }
   ],
   "source": [
    "%%capture_png imgs/example.png\n",
    "#Checkboard\n",
    "pixX= 15\n",
    "pixY= 15\n",
    "array = [[(i+j)%2 for i in range(pixX)] for j in range(pixY)]\n",
    "disp(array)"
   ]
  },
  {
   "cell_type": "code",
   "execution_count": 3,
   "metadata": {
    "tags": []
   },
   "outputs": [
    {
     "data": {
      "image/png": "[encoded data removed]",
      "text/plain": [
       "<Figure size 360x360 with 1 Axes>"
      ]
     },
     "metadata": {
      "needs_background": "light"
     },
     "output_type": "display_data"
    }
   ],
   "source": [
    "%%capture_png imgs/example.png\n",
    "#from 4 regions\n",
    "region0 = np.zeros( (10,8) )\n",
    "region1 = np.ones( (10,7) )\n",
    "region_top= np.concatenate( [region0,region1] , axis=1)\n",
    "\n",
    "region2 = np.full( (5,5) , 2)\n",
    "region3 = np.full( (5,10) ,3)\n",
    "region_bottom = np.concatenate( [region2,region3] , axis=1)\n",
    "\n",
    "array= np.concatenate( [region_top,region_bottom] ,axis=0)\n",
    "disp(array)"
   ]
  },
  {
   "cell_type": "code",
   "execution_count": null,
   "metadata": {},
   "outputs": [],
   "source": []
  }
 ],
 "metadata": {
  "kernelspec": {
   "display_name": "Python 3",
   "language": "python",
   "name": "python3"
  },
  "language_info": {
   "codemirror_mode": {
    "name": "ipython",
    "version": 3
   },
   "file_extension": ".py",
   "mimetype": "text/x-python",
   "name": "python",
   "nbconvert_exporter": "python",
   "pygments_lexer": "ipython3",
   "version": "3.9.5"
  }
 },
 "nbformat": 4,
 "nbformat_minor": 4
}
