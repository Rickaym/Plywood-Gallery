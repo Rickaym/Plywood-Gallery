{
 "cells": [
  {
   "cell_type": "markdown",
   "metadata": {},
   "source": [
    "# Minimal case running ! "
   ]
  },
  {
   "cell_type": "code",
   "execution_count": 1,
   "metadata": {},
   "outputs": [],
   "source": [
    "import matplotlib.pyplot as plt\n",
    "from my_tools import *"
   ]
  },
  {
   "cell_type": "code",
   "execution_count": 2,
   "metadata": {},
   "outputs": [
    {
     "name": "stdout",
     "output_type": "stream",
     "text": [
      "hello caputre_png_test\n",
      "[<IPython.utils.capture.RichOutput object at 0x127828f10>, <IPython.utils.capture.RichOutput object at 0x127828dc0>]\n"
     ]
    }
   ],
   "source": [
    "%%caputre_png_test\n",
    "plt.plot([1,2],[10,20])"
   ]
  }
 ],
 "metadata": {
  "interpreter": {
   "hash": "deefdb209dc179ecbc880626fece8554a87baca41cae0d7b198759a4c27f783b"
  },
  "kernelspec": {
   "display_name": "Python 3.9.5 64-bit ('manimenv2': venv)",
   "language": "python",
   "name": "python3"
  },
  "language_info": {
   "codemirror_mode": {
    "name": "ipython",
    "version": 3
   },
   "file_extension": ".py",
   "mimetype": "text/x-python",
   "name": "python",
   "nbconvert_exporter": "python",
   "pygments_lexer": "ipython3",
   "version": "3.9.5"
  },
  "orig_nbformat": 4
 },
 "nbformat": 4,
 "nbformat_minor": 2
}
