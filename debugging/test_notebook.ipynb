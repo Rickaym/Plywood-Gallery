{
 "cells": [
  {
   "cell_type": "code",
   "execution_count": 1,
   "metadata": {},
   "outputs": [],
   "source": [
    "import matplotlib.pyplot as plt"
   ]
  },
  {
   "cell_type": "markdown",
   "metadata": {},
   "source": [
    "### Testing ideas\n",
    "**CASE 1** - testing context manager & capture_output with simple plot in cell magic  - does not work"
   ]
  },
  {
   "cell_type": "code",
   "execution_count": 2,
   "metadata": {},
   "outputs": [],
   "source": [
    "from IPython.core.magic import (Magics, magics_class, cell_magic)\n",
    "from IPython import get_ipython\n",
    "from IPython.utils.capture import capture_output\n",
    "\n",
    "@magics_class\n",
    "class MyMagic(Magics):\n",
    "    @cell_magic\n",
    "    def caputre_png_test1(self, line, cell):\n",
    "        print(\"hello caputre_png_test\")\n",
    "        with capture_output(stdout=False, stderr=False, display=False) as result: \n",
    "            plt.plot([1,2],[10,20]) # should capture the plot and not display anything\n",
    "            print(result.outputs) # should print list that contains the plot object\n",
    "\n",
    "ipy = get_ipython()\n",
    "ipy.register_magics(MyMagic)"
   ]
  },
  {
   "cell_type": "code",
   "execution_count": 3,
   "metadata": {},
   "outputs": [
    {
     "name": "stdout",
     "output_type": "stream",
     "text": [
      "hello caputre_png_test\n",
      "[]\n"
     ]
    },
    {
     "data": {
      "image/png": "[encoded data removed]",
      "text/plain": [
       "<Figure size 432x288 with 1 Axes>"
      ]
     },
     "metadata": {
      "needs_background": "light"
     },
     "output_type": "display_data"
    }
   ],
   "source": [
    "%%caputre_png_test1\n",
    "pass"
   ]
  },
  {
   "cell_type": "markdown",
   "metadata": {},
   "source": [
    "**CASE 2** - testing context manager & capture_output in combination with `exec(cell)`- does not work"
   ]
  },
  {
   "cell_type": "code",
   "execution_count": 4,
   "metadata": {},
   "outputs": [],
   "source": [
    "from IPython.core.magic import (Magics, magics_class, cell_magic)\n",
    "from IPython import get_ipython\n",
    "from IPython.utils.capture import capture_output\n",
    "import matplotlib.pyplot as plt\n",
    "\n",
    "@magics_class\n",
    "class MyMagic(Magics):\n",
    "    @cell_magic\n",
    "    def caputre_png_test2(self, line, cell):\n",
    "        print(\"hello caputre_png_test2\")\n",
    "        exec(cell) # should capture the plot and not display anything\n",
    "        with capture_output(stdout=False, stderr=False, display=False) as result:\n",
    "            print(result.outputs) # should print list that contains the plot object\n",
    "\n",
    "ipy = get_ipython()\n",
    "ipy.register_magics(MyMagic)"
   ]
  },
  {
   "cell_type": "code",
   "execution_count": 5,
   "metadata": {},
   "outputs": [
    {
     "name": "stdout",
     "output_type": "stream",
     "text": [
      "hello caputre_png_test2\n",
      "[]\n"
     ]
    },
    {
     "data": {
      "image/png": "[encoded data removed]",
      "text/plain": [
       "<Figure size 432x288 with 1 Axes>"
      ]
     },
     "metadata": {
      "needs_background": "light"
     },
     "output_type": "display_data"
    }
   ],
   "source": [
    "%%caputre_png_test2\n",
    "plt.plot([1,2],[10,20])"
   ]
  },
  {
   "cell_type": "markdown",
   "metadata": {},
   "source": [
    "**CASE 3** - Ugly workaround: cell magic defined in a string - WORKS!"
   ]
  },
  {
   "cell_type": "code",
   "execution_count": 6,
   "metadata": {},
   "outputs": [],
   "source": [
    "class UglyWorkAround:\n",
    "    cell_magic_definition= \"\"\"\n",
    "from IPython.core.magic import register_cell_magic\n",
    "from IPython import get_ipython\n",
    "@register_cell_magic\n",
    "def caputre_png_ugly(line, cell):\n",
    "    print(\"hello caputre_png\")\n",
    "    get_ipython().run_cell_magic(\n",
    "        'capture',\n",
    "        ' --no-stderr --no-stdout result',\n",
    "        cell\n",
    "    )\n",
    "    print(result.outputs)\n",
    "    \"\"\"\n",
    "exec(UglyWorkAround.cell_magic_definition)"
   ]
  },
  {
   "cell_type": "code",
   "execution_count": 7,
   "metadata": {},
   "outputs": [
    {
     "name": "stdout",
     "output_type": "stream",
     "text": [
      "hello caputre_png\n",
      "[<IPython.utils.capture.RichOutput object at 0x1105219a0>, <IPython.utils.capture.RichOutput object at 0x110521fa0>]\n"
     ]
    }
   ],
   "source": [
    "%%caputre_png_ugly\n",
    "plt.plot([1,2],[10,20])"
   ]
  },
  {
   "cell_type": "markdown",
   "metadata": {},
   "source": [
    "**CASE 4** - Cell magic defined in notebook - WORKS"
   ]
  },
  {
   "cell_type": "code",
   "execution_count": 8,
   "metadata": {},
   "outputs": [],
   "source": [
    "from IPython.core.magic import register_cell_magic\n",
    "from IPython import get_ipython\n",
    "@register_cell_magic\n",
    "def caputre_png(line, cell):\n",
    "    print(\"hello caputre_png\")\n",
    "    get_ipython().run_cell_magic(\n",
    "        'capture',\n",
    "        ' --no-stderr --no-stdout result',\n",
    "        cell\n",
    "    )\n",
    "    print(result.outputs)"
   ]
  },
  {
   "cell_type": "code",
   "execution_count": 9,
   "metadata": {},
   "outputs": [
    {
     "name": "stdout",
     "output_type": "stream",
     "text": [
      "hello caputre_png\n",
      "[<IPython.utils.capture.RichOutput object at 0x129815310>, <IPython.utils.capture.RichOutput object at 0x1298155e0>]\n"
     ]
    }
   ],
   "source": [
    "%%caputre_png\n",
    "import matplotlib.pyplot as plt\n",
    "plt.plot([1,2],[10,20])"
   ]
  }
 ],
 "metadata": {
  "interpreter": {
   "hash": "deefdb209dc179ecbc880626fece8554a87baca41cae0d7b198759a4c27f783b"
  },
  "kernelspec": {
   "display_name": "Python 3.9.5 64-bit ('manimenv2': venv)",
   "language": "python",
   "name": "python3"
  },
  "language_info": {
   "codemirror_mode": {
    "name": "ipython",
    "version": 3
   },
   "file_extension": ".py",
   "mimetype": "text/x-python",
   "name": "python",
   "nbconvert_exporter": "python",
   "pygments_lexer": "ipython3",
   "version": "3.9.5"
  },
  "orig_nbformat": 4
 },
 "nbformat": 4,
 "nbformat_minor": 2
}
