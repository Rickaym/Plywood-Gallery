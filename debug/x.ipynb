{
 "cells": [
  {
   "cell_type": "code",
   "execution_count": 9,
   "metadata": {},
   "outputs": [
    {
     "name": "stdout",
     "output_type": "stream",
     "text": [
      "{'plywood_metadata': {'plywood_gallery_core_version': '0.0.8'}, 'plywood_content': {}}\n"
     ]
    }
   ],
   "source": [
    "import json\n",
    "import pkg_resources\n",
    "core_version = pkg_resources.get_distribution(\"plywood_gallery\").version\n",
    "\n",
    "json_default = {\n",
    "    \"plywood_metadata\": {\"plywood_gallery_core_version\": f\"{core_version}\"},\n",
    "    \"plywood_content\": {},\n",
    "}\n",
    "\n",
    "print(json_default)\n",
    "with open(joson_file_path, \"w\") as jsonFile:\n",
    "    json.dump(json_default, jsonFile, indent=2)\n"
   ]
  },
  {
   "cell_type": "code",
   "execution_count": null,
   "metadata": {},
   "outputs": [],
   "source": []
  }
 ],
 "metadata": {
  "kernelspec": {
   "display_name": "Python 3.9.15 ('plywood_gallery_env': venv)",
   "language": "python",
   "name": "python3"
  },
  "language_info": {
   "codemirror_mode": {
    "name": "ipython",
    "version": 3
   },
   "file_extension": ".py",
   "mimetype": "text/x-python",
   "name": "python",
   "nbconvert_exporter": "python",
   "pygments_lexer": "ipython3",
   "version": "3.9.15"
  },
  "orig_nbformat": 4,
  "vscode": {
   "interpreter": {
    "hash": "2952ffede85d5ee814e7d7d53bb189c2d6659c3837bb58400800b4ce3939b697"
   }
  }
 },
 "nbformat": 4,
 "nbformat_minor": 2
}
